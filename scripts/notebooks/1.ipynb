{
 "cells": [
  {
   "cell_type": "code",
   "execution_count": null,
   "id": "9347acf8",
   "metadata": {},
   "outputs": [],
   "source": [
    "import json"
   ]
  },
  {
   "cell_type": "code",
   "execution_count": 50,
   "id": "a841a30b",
   "metadata": {},
   "outputs": [],
   "source": [
    "import json\n",
    "\n",
    "filename=r'C:\\Users\\HP\\OneDrive\\Documents\\GithubRepos\\Data\\commits.json'\n",
    "\n",
    "with open(filename,'r') as f:\n",
    "    commits=json.load(f)"
   ]
  },
  {
   "cell_type": "code",
   "execution_count": 51,
   "id": "62fa685e",
   "metadata": {},
   "outputs": [
    {
     "name": "stdout",
     "output_type": "stream",
     "text": [
      "Created an entry for sebmarkbage in 'author'\n",
      "Created an entry for kassens in 'author'\n",
      "Created an entry for josephsavona in 'author'\n",
      "Created an entry for rickhanlonii in 'author'\n",
      "Created an entry for poteto in 'author'\n",
      "Created an entry for jennyscript in 'author'\n",
      "Created an entry for sammy-SC in 'author'\n",
      "Done populating the 'authors' from the commits\n"
     ]
    }
   ],
   "source": [
    "authors={}\n",
    "\n",
    "for commit in commits:\n",
    "    #print(commit.get('author').get('login'))\n",
    "    author=commit.get('author')\n",
    "    if author and isinstance(author,dict):\n",
    "        login=author.get('login')\n",
    "        if login and isinstance(login,str):\n",
    "            if login not in authors:\n",
    "                authors[login]=1\n",
    "                print(f\"Created an entry for {login} in 'author'\")\n",
    "            else:\n",
    "                authors[login] += 1\n",
    "        else:\n",
    "            print('There is no login present')\n",
    "    else:\n",
    "        print('There is no author dictionary in the commit JSON given by github')\n",
    "\n",
    "print(\"Done populating the 'authors' from the commits\")"
   ]
  },
  {
   "cell_type": "code",
   "execution_count": 53,
   "id": "d4274bd6",
   "metadata": {},
   "outputs": [
    {
     "data": {
      "text/plain": [
       "{'sebmarkbage': 20,\n",
       " 'kassens': 4,\n",
       " 'poteto': 2,\n",
       " 'josephsavona': 1,\n",
       " 'rickhanlonii': 1,\n",
       " 'jennyscript': 1,\n",
       " 'sammy-SC': 1}"
      ]
     },
     "execution_count": 53,
     "metadata": {},
     "output_type": "execute_result"
    }
   ],
   "source": [
    "sorted_authors=dict( sorted(authors.items(), key=lambda item: item[1],reverse=True ) )\n",
    "sorted_authors"
   ]
  }
 ],
 "metadata": {
  "kernelspec": {
   "display_name": "base",
   "language": "python",
   "name": "python3"
  },
  "language_info": {
   "codemirror_mode": {
    "name": "ipython",
    "version": 3
   },
   "file_extension": ".py",
   "mimetype": "text/x-python",
   "name": "python",
   "nbconvert_exporter": "python",
   "pygments_lexer": "ipython3",
   "version": "3.12.9"
  }
 },
 "nbformat": 4,
 "nbformat_minor": 5
}
